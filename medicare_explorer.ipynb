{
 "cells": [
  {
   "cell_type": "code",
   "execution_count": null,
   "id": "52c8b637",
   "metadata": {},
   "outputs": [
    {
     "name": "stdout",
     "output_type": "stream",
     "text": [
      "filename: MUP_DPR_RY21_P04_V10_DY13_Geo_0.csv\n",
      "size: 12.3377685546875 MB\n",
      "\n",
      "filename: MUP_DPR_RY21_P04_V10_DY14_Geo_0.csv\n",
      "size: 12.44426441192627 MB\n",
      "\n",
      "filename: MUP_DPR_RY21_P04_V10_DY15_Geo_0.csv\n",
      "size: 12.628755569458008 MB\n",
      "\n",
      "filename: MUP_DPR_RY21_P04_V10_DY16_Geo_0.csv\n",
      "size: 12.733323097229004 MB\n",
      "\n",
      "filename: MUP_DPR_RY21_P04_V10_DY18_Geo.csv\n",
      "size: 13.248180389404297 MB\n",
      "\n",
      "filename: MUP_DPR_RY21_P04_V10_DY19_Geo.csv\n",
      "size: 13.363542556762695 MB\n",
      "\n",
      "filename: MUP_DPR_RY22_20220715_DD_Geo.pdf\n",
      "size: 0.1532430648803711 MB\n",
      "\n",
      "filename: MUP_DPR_RY22_20220715_DD_PRV.pdf\n",
      "size: 0.33304691314697266 MB\n",
      "\n",
      "filename: MUP_DPR_RY22_20220715_DD_PRV_Drug.pdf\n",
      "size: 0.12542438507080078 MB\n",
      "\n",
      "filename: MUP_DPR_RY22_P04_V10_DY20_Geo.csv\n",
      "size: 13.45810604095459 MB\n",
      "\n",
      "filename: MUP_DPR_RY22_P04_V10_DY20_NPI.csv\n",
      "size: 494.45730781555176 MB\n",
      "\n",
      "filename: MUP_DPR_RY22_P04_V10_DY20_NPIBN_0.csv\n",
      "size: 3156.223702430725 MB\n",
      "\n",
      "filename: MUP_PTD_R19_P16_V10_D17_Geo.csv\n",
      "size: 14.29631519317627 MB\n",
      "\n"
     ]
    }
   ],
   "source": [
    "# !pip install requests pandas\n",
    "import requests\n",
    "import pandas as pd\n",
    "import os\n",
    "\n",
    "# data download location\n",
    "# https://data.cms.gov/provider-summary-by-type-of-service/medicare-part-d-prescribers\n",
    "\n",
    "datadir = '/home/skyler_wsl/data/medicare_raw_data/'\n",
    "for f in sorted(os.listdir(datadir)):\n",
    "    print(f\"filename: {f}\\nsize: {os.stat(datadir+f).st_size / (1024*1024)} MB\\n\")"
   ]
  },
  {
   "cell_type": "code",
   "execution_count": 8,
   "id": "fc75bd78",
   "metadata": {},
   "outputs": [
    {
     "data": {
      "text/plain": [
       "['MUP_DPR_RY21_P04_V10_DY13_Geo_0.csv',\n",
       " 'MUP_DPR_RY21_P04_V10_DY14_Geo_0.csv',\n",
       " 'MUP_DPR_RY21_P04_V10_DY15_Geo_0.csv',\n",
       " 'MUP_DPR_RY21_P04_V10_DY16_Geo_0.csv',\n",
       " 'MUP_DPR_RY21_P04_V10_DY18_Geo.csv',\n",
       " 'MUP_DPR_RY21_P04_V10_DY19_Geo.csv',\n",
       " 'MUP_DPR_RY22_20220715_DD_Geo.pdf',\n",
       " 'MUP_DPR_RY22_20220715_DD_PRV.pdf',\n",
       " 'MUP_DPR_RY22_20220715_DD_PRV_Drug.pdf',\n",
       " 'MUP_DPR_RY22_P04_V10_DY20_Geo.csv',\n",
       " 'MUP_DPR_RY22_P04_V10_DY20_NPI.csv',\n",
       " 'MUP_DPR_RY22_P04_V10_DY20_NPIBN_0.csv',\n",
       " 'MUP_PTD_R19_P16_V10_D17_Geo.csv']"
      ]
     },
     "execution_count": 8,
     "metadata": {},
     "output_type": "execute_result"
    }
   ],
   "source": [
    "files = sorted(os.listdir(datadir))\n",
    "files\n",
    "# [z for z in files if 'MUP_DPR_RY21_P04_V10' in z]"
   ]
  }
 ],
 "metadata": {
  "kernelspec": {
   "display_name": "Python 3 (ipykernel)",
   "language": "python",
   "name": "python3"
  },
  "language_info": {
   "codemirror_mode": {
    "name": "ipython",
    "version": 3
   },
   "file_extension": ".py",
   "mimetype": "text/x-python",
   "name": "python",
   "nbconvert_exporter": "python",
   "pygments_lexer": "ipython3",
   "version": "3.10.6"
  }
 },
 "nbformat": 4,
 "nbformat_minor": 5
}
